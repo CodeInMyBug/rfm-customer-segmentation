{
 "cells": [
  {
   "cell_type": "code",
   "execution_count": null,
   "id": "197360b3-090d-43bc-862d-abdd4333e6f6",
   "metadata": {},
   "outputs": [],
   "source": [
    "# 📁 01_generate_segmentation_data.ipynb\n",
    "\n",
    "# ## 1. Introduction\n",
    "\"\"\"\n",
    "Generate synthetic customer data for segmentation based on RFM and telco usage patterns.\n",
    "\"\"\"\n",
    "\n",
    "# ## 2. Imports\n",
    "import pandas as pd\n",
    "import numpy as np\n",
    "\n",
    "# ## 3. Configuration\n",
    "np.random.seed(42)\n",
    "n = 1000\n",
    "\n",
    "# ## 4. Generate Features\n",
    "customer_id = [f\"CUST{i:04d}\" for i in range(n)]\n",
    "recency = np.random.randint(1, 100, size=n)\n",
    "frequency = np.random.poisson(5, size=n)\n",
    "monetary = np.round(np.random.normal(300, 100, size=n), 2)\n",
    "monetary = np.clip(monetary, 20, None)\n",
    "\n",
    "avg_call_duration = np.round(np.random.normal(5, 2, size=n), 2)\n",
    "num_support_tickets = np.random.poisson(1.2, size=n)\n",
    "data_usage_gb = np.round(np.random.exponential(2, size=n), 2)\n",
    "app_opens_weekly = np.random.randint(0, 20, size=n)\n",
    "\n",
    "# ## 5. Assemble DataFrame\n",
    "df_seg = pd.DataFrame({\n",
    "    'customer_id': customer_id,\n",
    "    'recency_days': recency,\n",
    "    'frequency': frequency,\n",
    "    'monetary_value': monetary,\n",
    "    'avg_call_duration_min': avg_call_duration,\n",
    "    'num_support_tickets': num_support_tickets,\n",
    "    'data_usage_gb': data_usage_gb,\n",
    "    'app_opens_weekly': app_opens_weekly\n",
    "})\n",
    "\n",
    "# ## 6. Save Dataset\n",
    "df_seg.to_csv(\"../data/segmentation_customers.csv\", index=False)\n",
    "df_seg.head()\n"
   ]
  }
 ],
 "metadata": {
  "kernelspec": {
   "display_name": "Python 3 (ipykernel)",
   "language": "python",
   "name": "python3"
  },
  "language_info": {
   "codemirror_mode": {
    "name": "ipython",
    "version": 3
   },
   "file_extension": ".py",
   "mimetype": "text/x-python",
   "name": "python",
   "nbconvert_exporter": "python",
   "pygments_lexer": "ipython3",
   "version": "3.11.7"
  }
 },
 "nbformat": 4,
 "nbformat_minor": 5
}
